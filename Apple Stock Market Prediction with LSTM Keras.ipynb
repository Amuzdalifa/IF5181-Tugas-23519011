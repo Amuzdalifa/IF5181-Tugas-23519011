{
 "cells": [
  {
   "cell_type": "code",
   "execution_count": 1,
   "metadata": {},
   "outputs": [],
   "source": [
    "import numpy as np\n",
    "import matplotlib.pyplot as plt\n",
    "import pandas as pd\n",
    "from sklearn.externals import joblib"
   ]
  },
  {
   "cell_type": "code",
   "execution_count": 3,
   "metadata": {},
   "outputs": [
    {
     "data": {
      "text/html": [
       "<div>\n",
       "<style scoped>\n",
       "    .dataframe tbody tr th:only-of-type {\n",
       "        vertical-align: middle;\n",
       "    }\n",
       "\n",
       "    .dataframe tbody tr th {\n",
       "        vertical-align: top;\n",
       "    }\n",
       "\n",
       "    .dataframe thead th {\n",
       "        text-align: right;\n",
       "    }\n",
       "</style>\n",
       "<table border=\"1\" class=\"dataframe\">\n",
       "  <thead>\n",
       "    <tr style=\"text-align: right;\">\n",
       "      <th></th>\n",
       "      <th>year</th>\n",
       "      <th>month</th>\n",
       "      <th>open</th>\n",
       "      <th>high</th>\n",
       "      <th>low</th>\n",
       "      <th>close</th>\n",
       "      <th>volume</th>\n",
       "    </tr>\n",
       "  </thead>\n",
       "  <tbody>\n",
       "    <tr>\n",
       "      <th>0</th>\n",
       "      <td>2018</td>\n",
       "      <td>3</td>\n",
       "      <td>177.32</td>\n",
       "      <td>177.47</td>\n",
       "      <td>173.66</td>\n",
       "      <td>175.82</td>\n",
       "      <td>46812368</td>\n",
       "    </tr>\n",
       "    <tr>\n",
       "      <th>1</th>\n",
       "      <td>2018</td>\n",
       "      <td>3</td>\n",
       "      <td>180.29</td>\n",
       "      <td>183.50</td>\n",
       "      <td>177.62</td>\n",
       "      <td>178.02</td>\n",
       "      <td>151720299</td>\n",
       "    </tr>\n",
       "    <tr>\n",
       "      <th>2</th>\n",
       "      <td>2018</td>\n",
       "      <td>3</td>\n",
       "      <td>175.21</td>\n",
       "      <td>180.00</td>\n",
       "      <td>174.27</td>\n",
       "      <td>179.98</td>\n",
       "      <td>138442235</td>\n",
       "    </tr>\n",
       "  </tbody>\n",
       "</table>\n",
       "</div>"
      ],
      "text/plain": [
       "   year  month    open    high     low   close     volume\n",
       "0  2018      3  177.32  177.47  173.66  175.82   46812368\n",
       "1  2018      3  180.29  183.50  177.62  178.02  151720299\n",
       "2  2018      3  175.21  180.00  174.27  179.98  138442235"
      ]
     },
     "execution_count": 3,
     "metadata": {},
     "output_type": "execute_result"
    }
   ],
   "source": [
    "dataset_train  = pd.read_csv('datasets/AppleCompanyStock.csv')\n",
    "training_set = dataset_train.iloc[16:, 2:3].values\n",
    "test_set = dataset_train.iloc[:16, 2:3].values\n",
    "\n",
    "dataset_train.head(3)"
   ]
  },
  {
   "cell_type": "code",
   "execution_count": 49,
   "metadata": {},
   "outputs": [
    {
     "data": {
      "text/plain": [
       "934"
      ]
     },
     "execution_count": 49,
     "metadata": {},
     "output_type": "execute_result"
    }
   ],
   "source": [
    "len(training_set)"
   ]
  },
  {
   "cell_type": "code",
   "execution_count": 12,
   "metadata": {},
   "outputs": [
    {
     "name": "stdout",
     "output_type": "stream",
     "text": [
      "[[175.05 ]\n",
      " [170.29 ]\n",
      " [173.5  ]\n",
      " [172.365]\n",
      " [163.89 ]] [[108.  ]\n",
      " [101.  ]\n",
      " [108.44]\n",
      " [101.  ]\n",
      " [102.  ]]\n"
     ]
    }
   ],
   "source": [
    "print(training_set[:5], training_set[929:])"
   ]
  },
  {
   "cell_type": "code",
   "execution_count": 19,
   "metadata": {},
   "outputs": [
    {
     "data": {
      "text/plain": [
       "16"
      ]
     },
     "execution_count": 19,
     "metadata": {},
     "output_type": "execute_result"
    }
   ],
   "source": [
    "len(test_set)"
   ]
  },
  {
   "cell_type": "code",
   "execution_count": 50,
   "metadata": {},
   "outputs": [
    {
     "data": {
      "text/plain": [
       "(950, 7)"
      ]
     },
     "execution_count": 50,
     "metadata": {},
     "output_type": "execute_result"
    }
   ],
   "source": [
    "dataset_train.shape"
   ]
  },
  {
   "cell_type": "code",
   "execution_count": 13,
   "metadata": {},
   "outputs": [],
   "source": [
    "from sklearn.preprocessing import MinMaxScaler\n",
    "sc = MinMaxScaler(feature_range=(0,1))\n"
   ]
  },
  {
   "cell_type": "code",
   "execution_count": 14,
   "metadata": {},
   "outputs": [],
   "source": [
    "training_set_scaled = sc.fit_transform(training_set)"
   ]
  },
  {
   "cell_type": "code",
   "execution_count": 15,
   "metadata": {},
   "outputs": [
    {
     "name": "stdout",
     "output_type": "stream",
     "text": [
      "[[0.23595931]] [[0.13825012]\n",
      " [0.12804931]\n",
      " [0.13889132]\n",
      " [0.12804931]\n",
      " [0.12950657]]\n"
     ]
    }
   ],
   "source": [
    "print(training_set_scaled[:1], training_set_scaled[929:])"
   ]
  },
  {
   "cell_type": "code",
   "execution_count": 20,
   "metadata": {},
   "outputs": [],
   "source": [
    "X_train = []\n",
    "y_train = []\n",
    "\n",
    "data_length = 5\n",
    "for i in range(data_length, len(training_set)):\n",
    "    X_train.append(training_set_scaled[i-data_length:i, 0])\n",
    "    y_train.append(training_set_scaled[i, 0])\n",
    "X_train, y_train = np.array(X_train), np.array(y_train)\n",
    "    \n",
    "X_train = np.reshape(X_train, (X_train.shape[0], X_train.shape[1], 1))"
   ]
  },
  {
   "cell_type": "code",
   "execution_count": 21,
   "metadata": {},
   "outputs": [
    {
     "name": "stdout",
     "output_type": "stream",
     "text": [
      "[[0.2359593133397453], [0.22902276237941185], [0.23370056250182158], [0.23204657398501938], [0.21969630730669462]]\n"
     ]
    }
   ],
   "source": [
    "print(X_train[0].tolist())"
   ]
  },
  {
   "cell_type": "code",
   "execution_count": 22,
   "metadata": {},
   "outputs": [],
   "source": [
    "from keras.models import Sequential\n",
    "from keras.layers import Dense, LSTM, Dropout"
   ]
  },
  {
   "cell_type": "code",
   "execution_count": 26,
   "metadata": {},
   "outputs": [
    {
     "name": "stdout",
     "output_type": "stream",
     "text": [
      "Epoch 1/200\n",
      "929/929 [==============================] - 18s 19ms/step - loss: 0.0584\n",
      "Epoch 2/200\n",
      "929/929 [==============================] - 1s 1ms/step - loss: 0.0081\n",
      "Epoch 3/200\n",
      "929/929 [==============================] - 1s 964us/step - loss: 0.0050\n",
      "Epoch 4/200\n",
      "929/929 [==============================] - 1s 824us/step - loss: 0.0046\n",
      "Epoch 5/200\n",
      "929/929 [==============================] - 1s 572us/step - loss: 0.0043\n",
      "Epoch 6/200\n",
      "929/929 [==============================] - 1s 706us/step - loss: 0.0046\n",
      "Epoch 7/200\n",
      "929/929 [==============================] - 1s 690us/step - loss: 0.0041\n",
      "Epoch 8/200\n",
      "929/929 [==============================] - 1s 656us/step - loss: 0.0048\n",
      "Epoch 9/200\n",
      "929/929 [==============================] - 1s 622us/step - loss: 0.0042\n",
      "Epoch 10/200\n",
      "929/929 [==============================] - 1s 698us/step - loss: 0.0044\n",
      "Epoch 11/200\n",
      "929/929 [==============================] - 1s 775us/step - loss: 0.0040\n",
      "Epoch 12/200\n",
      "929/929 [==============================] - 1s 624us/step - loss: 0.0040\n",
      "Epoch 13/200\n",
      "929/929 [==============================] - 0s 532us/step - loss: 0.0044\n",
      "Epoch 14/200\n",
      "929/929 [==============================] - 1s 572us/step - loss: 0.0037\n",
      "Epoch 15/200\n",
      "929/929 [==============================] - 1s 690us/step - loss: 0.0047\n",
      "Epoch 16/200\n",
      "929/929 [==============================] - 1s 690us/step - loss: 0.0040\n",
      "Epoch 17/200\n",
      "929/929 [==============================] - 1s 656us/step - loss: 0.0038\n",
      "Epoch 18/200\n",
      "929/929 [==============================] - 1s 572us/step - loss: 0.0038\n",
      "Epoch 19/200\n",
      "929/929 [==============================] - 1s 636us/step - loss: 0.0039\n",
      "Epoch 20/200\n",
      "929/929 [==============================] - 1s 538us/step - loss: 0.0037\n",
      "Epoch 21/200\n",
      "929/929 [==============================] - 0s 527us/step - loss: 0.0034\n",
      "Epoch 22/200\n",
      "929/929 [==============================] - 1s 549us/step - loss: 0.0036\n",
      "Epoch 23/200\n",
      "929/929 [==============================] - 1s 557us/step - loss: 0.0035\n",
      "Epoch 24/200\n",
      "929/929 [==============================] - 1s 555us/step - loss: 0.0034\n",
      "Epoch 25/200\n",
      "929/929 [==============================] - 1s 605us/step - loss: 0.0036\n",
      "Epoch 26/200\n",
      "929/929 [==============================] - 1s 589us/step - loss: 0.0036\n",
      "Epoch 27/200\n",
      "929/929 [==============================] - 1s 538us/step - loss: 0.0033\n",
      "Epoch 28/200\n",
      "929/929 [==============================] - 1s 589us/step - loss: 0.0038\n",
      "Epoch 29/200\n",
      "929/929 [==============================] - 1s 572us/step - loss: 0.0037\n",
      "Epoch 30/200\n",
      "929/929 [==============================] - 1s 622us/step - loss: 0.0033\n",
      "Epoch 31/200\n",
      "929/929 [==============================] - 0s 521us/step - loss: 0.0034\n",
      "Epoch 32/200\n",
      "929/929 [==============================] - 1s 538us/step - loss: 0.0034\n",
      "Epoch 33/200\n",
      "929/929 [==============================] - 0s 505us/step - loss: 0.0032\n",
      "Epoch 34/200\n",
      "929/929 [==============================] - 1s 538us/step - loss: 0.0031\n",
      "Epoch 35/200\n",
      "929/929 [==============================] - 0s 505us/step - loss: 0.0038\n",
      "Epoch 36/200\n",
      "929/929 [==============================] - 1s 538us/step - loss: 0.0046\n",
      "Epoch 37/200\n",
      "929/929 [==============================] - 0s 505us/step - loss: 0.0034\n",
      "Epoch 38/200\n",
      "929/929 [==============================] - 0s 505us/step - loss: 0.0034\n",
      "Epoch 39/200\n",
      "929/929 [==============================] - 0s 521us/step - loss: 0.0031\n",
      "Epoch 40/200\n",
      "929/929 [==============================] - 1s 538us/step - loss: 0.0032\n",
      "Epoch 41/200\n",
      "929/929 [==============================] - 1s 605us/step - loss: 0.0030\n",
      "Epoch 42/200\n",
      "929/929 [==============================] - 1s 538us/step - loss: 0.0030\n",
      "Epoch 43/200\n",
      "929/929 [==============================] - 1s 538us/step - loss: 0.0029\n",
      "Epoch 44/200\n",
      "929/929 [==============================] - 0s 488us/step - loss: 0.0027\n",
      "Epoch 45/200\n",
      "929/929 [==============================] - 0s 471us/step - loss: 0.0030\n",
      "Epoch 46/200\n",
      "929/929 [==============================] - 0s 471us/step - loss: 0.0029\n",
      "Epoch 47/200\n",
      "929/929 [==============================] - 0s 488us/step - loss: 0.0029\n",
      "Epoch 48/200\n",
      "929/929 [==============================] - 1s 589us/step - loss: 0.0025\n",
      "Epoch 49/200\n",
      "929/929 [==============================] - 0s 521us/step - loss: 0.0040\n",
      "Epoch 50/200\n",
      "929/929 [==============================] - 1s 555us/step - loss: 0.0030\n",
      "Epoch 51/200\n",
      "929/929 [==============================] - 0s 488us/step - loss: 0.0033\n",
      "Epoch 52/200\n",
      "929/929 [==============================] - 0s 488us/step - loss: 0.0027\n",
      "Epoch 53/200\n",
      "929/929 [==============================] - 1s 656us/step - loss: 0.0028\n",
      "Epoch 54/200\n",
      "929/929 [==============================] - 1s 605us/step - loss: 0.0028\n",
      "Epoch 55/200\n",
      "929/929 [==============================] - 0s 488us/step - loss: 0.0024\n",
      "Epoch 56/200\n",
      "929/929 [==============================] - 1s 538us/step - loss: 0.0024\n",
      "Epoch 57/200\n",
      "929/929 [==============================] - 0s 521us/step - loss: 0.0028\n",
      "Epoch 58/200\n",
      "929/929 [==============================] - 1s 559us/step - loss: 0.0024\n",
      "Epoch 59/200\n",
      "929/929 [==============================] - 0s 497us/step - loss: 0.0024\n",
      "Epoch 60/200\n",
      "929/929 [==============================] - 0s 482us/step - loss: 0.0025\n",
      "Epoch 61/200\n",
      "929/929 [==============================] - 0s 482us/step - loss: 0.0024\n",
      "Epoch 62/200\n",
      "929/929 [==============================] - 0s 501us/step - loss: 0.0036\n",
      "Epoch 63/200\n",
      "929/929 [==============================] - 0s 505us/step - loss: 0.0021\n",
      "Epoch 64/200\n",
      "929/929 [==============================] - 0s 488us/step - loss: 0.0025\n",
      "Epoch 65/200\n",
      "929/929 [==============================] - 0s 488us/step - loss: 0.0025\n",
      "Epoch 66/200\n",
      "929/929 [==============================] - 0s 488us/step - loss: 0.0022\n",
      "Epoch 67/200\n",
      "929/929 [==============================] - 0s 488us/step - loss: 0.0025\n",
      "Epoch 68/200\n",
      "929/929 [==============================] - 0s 505us/step - loss: 0.0022\n",
      "Epoch 69/200\n",
      "929/929 [==============================] - 0s 505us/step - loss: 0.0028\n",
      "Epoch 70/200\n",
      "929/929 [==============================] - 0s 505us/step - loss: 0.0023\n",
      "Epoch 71/200\n",
      "929/929 [==============================] - 0s 488us/step - loss: 0.0021\n",
      "Epoch 72/200\n",
      "929/929 [==============================] - 0s 488us/step - loss: 0.0022\n",
      "Epoch 73/200\n",
      "929/929 [==============================] - 0s 505us/step - loss: 0.0023\n",
      "Epoch 74/200\n",
      "929/929 [==============================] - 0s 488us/step - loss: 0.0018\n",
      "Epoch 75/200\n",
      "929/929 [==============================] - 0s 488us/step - loss: 0.0021\n",
      "Epoch 76/200\n",
      "929/929 [==============================] - 0s 488us/step - loss: 0.0028\n",
      "Epoch 77/200\n",
      "929/929 [==============================] - 0s 505us/step - loss: 0.0022\n",
      "Epoch 78/200\n",
      "929/929 [==============================] - 0s 488us/step - loss: 0.0023\n",
      "Epoch 79/200\n",
      "929/929 [==============================] - 0s 488us/step - loss: 0.0021\n",
      "Epoch 80/200\n",
      "929/929 [==============================] - 0s 505us/step - loss: 0.0020\n",
      "Epoch 81/200\n",
      "929/929 [==============================] - 0s 505us/step - loss: 0.0022\n",
      "Epoch 82/200\n",
      "929/929 [==============================] - 0s 521us/step - loss: 0.0020\n",
      "Epoch 83/200\n",
      "929/929 [==============================] - 0s 521us/step - loss: 0.0018\n",
      "Epoch 84/200\n",
      "929/929 [==============================] - 0s 505us/step - loss: 0.0018\n",
      "Epoch 85/200\n",
      "929/929 [==============================] - 0s 505us/step - loss: 0.0020\n",
      "Epoch 86/200\n",
      "929/929 [==============================] - 0s 505us/step - loss: 0.0020\n",
      "Epoch 87/200\n",
      "929/929 [==============================] - 0s 505us/step - loss: 0.0021\n",
      "Epoch 88/200\n",
      "929/929 [==============================] - 0s 521us/step - loss: 0.0020\n",
      "Epoch 89/200\n",
      "929/929 [==============================] - 0s 521us/step - loss: 0.0019\n",
      "Epoch 90/200\n",
      "929/929 [==============================] - 0s 505us/step - loss: 0.0017\n",
      "Epoch 91/200\n",
      "929/929 [==============================] - 0s 505us/step - loss: 0.0018\n",
      "Epoch 92/200\n",
      "929/929 [==============================] - 0s 505us/step - loss: 0.0017\n",
      "Epoch 93/200\n",
      "929/929 [==============================] - 0s 505us/step - loss: 0.0019\n",
      "Epoch 94/200\n",
      "929/929 [==============================] - 0s 488us/step - loss: 0.0019\n",
      "Epoch 95/200\n",
      "929/929 [==============================] - 0s 488us/step - loss: 0.0020\n",
      "Epoch 96/200\n",
      "929/929 [==============================] - 0s 488us/step - loss: 0.0019\n",
      "Epoch 97/200\n"
     ]
    },
    {
     "name": "stdout",
     "output_type": "stream",
     "text": [
      "929/929 [==============================] - 0s 488us/step - loss: 0.0018\n",
      "Epoch 98/200\n",
      "929/929 [==============================] - 0s 488us/step - loss: 0.0017\n",
      "Epoch 99/200\n",
      "929/929 [==============================] - 0s 488us/step - loss: 0.0024\n",
      "Epoch 100/200\n",
      "929/929 [==============================] - 0s 488us/step - loss: 0.0019\n",
      "Epoch 101/200\n",
      "929/929 [==============================] - 0s 505us/step - loss: 0.0019\n",
      "Epoch 102/200\n",
      "929/929 [==============================] - 0s 488us/step - loss: 0.0019\n",
      "Epoch 103/200\n",
      "929/929 [==============================] - 0s 505us/step - loss: 0.0019\n",
      "Epoch 104/200\n",
      "929/929 [==============================] - 0s 505us/step - loss: 0.0017\n",
      "Epoch 105/200\n",
      "929/929 [==============================] - 0s 488us/step - loss: 0.0017\n",
      "Epoch 106/200\n",
      "929/929 [==============================] - 0s 488us/step - loss: 0.0017\n",
      "Epoch 107/200\n",
      "929/929 [==============================] - 0s 505us/step - loss: 0.0017\n",
      "Epoch 108/200\n",
      "929/929 [==============================] - 0s 488us/step - loss: 0.0018\n",
      "Epoch 109/200\n",
      "929/929 [==============================] - 0s 488us/step - loss: 0.0023\n",
      "Epoch 110/200\n",
      "929/929 [==============================] - 0s 488us/step - loss: 0.0019\n",
      "Epoch 111/200\n",
      "929/929 [==============================] - 0s 488us/step - loss: 0.0024\n",
      "Epoch 112/200\n",
      "929/929 [==============================] - 0s 488us/step - loss: 0.0018\n",
      "Epoch 113/200\n",
      "929/929 [==============================] - 0s 488us/step - loss: 0.0018\n",
      "Epoch 114/200\n",
      "929/929 [==============================] - 0s 488us/step - loss: 0.0015\n",
      "Epoch 115/200\n",
      "929/929 [==============================] - 0s 488us/step - loss: 0.0017\n",
      "Epoch 116/200\n",
      "929/929 [==============================] - 0s 488us/step - loss: 0.0016\n",
      "Epoch 117/200\n",
      "929/929 [==============================] - 0s 488us/step - loss: 0.0018\n",
      "Epoch 118/200\n",
      "929/929 [==============================] - 0s 505us/step - loss: 0.0017\n",
      "Epoch 119/200\n",
      "929/929 [==============================] - 0s 488us/step - loss: 0.0016\n",
      "Epoch 120/200\n",
      "929/929 [==============================] - 0s 488us/step - loss: 0.0018\n",
      "Epoch 121/200\n",
      "929/929 [==============================] - 0s 488us/step - loss: 0.0018\n",
      "Epoch 122/200\n",
      "929/929 [==============================] - 0s 505us/step - loss: 0.0017\n",
      "Epoch 123/200\n",
      "929/929 [==============================] - 0s 488us/step - loss: 0.0017\n",
      "Epoch 124/200\n",
      "929/929 [==============================] - 0s 488us/step - loss: 0.0018\n",
      "Epoch 125/200\n",
      "929/929 [==============================] - 0s 488us/step - loss: 0.0017\n",
      "Epoch 126/200\n",
      "929/929 [==============================] - 0s 488us/step - loss: 0.0017\n",
      "Epoch 127/200\n",
      "929/929 [==============================] - 0s 496us/step - loss: 0.0015\n",
      "Epoch 128/200\n",
      "929/929 [==============================] - 0s 505us/step - loss: 0.0017\n",
      "Epoch 129/200\n",
      "929/929 [==============================] - 0s 505us/step - loss: 0.0017\n",
      "Epoch 130/200\n",
      "929/929 [==============================] - 0s 488us/step - loss: 0.0016\n",
      "Epoch 131/200\n",
      "929/929 [==============================] - 0s 488us/step - loss: 0.0017\n",
      "Epoch 132/200\n",
      "929/929 [==============================] - 0s 505us/step - loss: 0.0021\n",
      "Epoch 133/200\n",
      "929/929 [==============================] - 0s 488us/step - loss: 0.0017\n",
      "Epoch 134/200\n",
      "929/929 [==============================] - 0s 488us/step - loss: 0.0017\n",
      "Epoch 135/200\n",
      "929/929 [==============================] - 0s 488us/step - loss: 0.0016\n",
      "Epoch 136/200\n",
      "929/929 [==============================] - 0s 505us/step - loss: 0.0017\n",
      "Epoch 137/200\n",
      "929/929 [==============================] - 0s 488us/step - loss: 0.0016\n",
      "Epoch 138/200\n",
      "929/929 [==============================] - 0s 505us/step - loss: 0.0025\n",
      "Epoch 139/200\n",
      "929/929 [==============================] - 0s 488us/step - loss: 0.0017\n",
      "Epoch 140/200\n",
      "929/929 [==============================] - 0s 521us/step - loss: 0.0016\n",
      "Epoch 141/200\n",
      "929/929 [==============================] - 0s 505us/step - loss: 0.0016\n",
      "Epoch 142/200\n",
      "929/929 [==============================] - 0s 505us/step - loss: 0.0017\n",
      "Epoch 143/200\n",
      "929/929 [==============================] - 0s 521us/step - loss: 0.0017\n",
      "Epoch 144/200\n",
      "929/929 [==============================] - 0s 505us/step - loss: 0.0017\n",
      "Epoch 145/200\n",
      "929/929 [==============================] - 0s 521us/step - loss: 0.0017\n",
      "Epoch 146/200\n",
      "929/929 [==============================] - 0s 505us/step - loss: 0.0016\n",
      "Epoch 147/200\n",
      "929/929 [==============================] - 0s 505us/step - loss: 0.0019\n",
      "Epoch 148/200\n",
      "929/929 [==============================] - 0s 521us/step - loss: 0.0015\n",
      "Epoch 149/200\n",
      "929/929 [==============================] - 0s 505us/step - loss: 0.0016\n",
      "Epoch 150/200\n",
      "929/929 [==============================] - 0s 521us/step - loss: 0.0015\n",
      "Epoch 151/200\n",
      "929/929 [==============================] - 0s 521us/step - loss: 0.0017\n",
      "Epoch 152/200\n",
      "929/929 [==============================] - 0s 505us/step - loss: 0.0017\n",
      "Epoch 153/200\n",
      "929/929 [==============================] - 0s 521us/step - loss: 0.0015\n",
      "Epoch 154/200\n",
      "929/929 [==============================] - 0s 505us/step - loss: 0.0015\n",
      "Epoch 155/200\n",
      "929/929 [==============================] - 0s 505us/step - loss: 0.0017\n",
      "Epoch 156/200\n",
      "929/929 [==============================] - 0s 521us/step - loss: 0.0014\n",
      "Epoch 157/200\n",
      "929/929 [==============================] - 1s 538us/step - loss: 0.0015\n",
      "Epoch 158/200\n",
      "929/929 [==============================] - 1s 538us/step - loss: 0.0015\n",
      "Epoch 159/200\n",
      "929/929 [==============================] - 0s 521us/step - loss: 0.0030\n",
      "Epoch 160/200\n",
      "929/929 [==============================] - 1s 538us/step - loss: 0.0017\n",
      "Epoch 161/200\n",
      "929/929 [==============================] - 1s 538us/step - loss: 0.0019\n",
      "Epoch 162/200\n",
      "929/929 [==============================] - 1s 589us/step - loss: 0.0016\n",
      "Epoch 163/200\n",
      "929/929 [==============================] - 1s 639us/step - loss: 0.0017\n",
      "Epoch 164/200\n",
      "929/929 [==============================] - 1s 555us/step - loss: 0.0017\n",
      "Epoch 165/200\n",
      "929/929 [==============================] - 1s 555us/step - loss: 0.0015\n",
      "Epoch 166/200\n",
      "929/929 [==============================] - 1s 555us/step - loss: 0.0016\n",
      "Epoch 167/200\n",
      "929/929 [==============================] - 0s 505us/step - loss: 0.0017\n",
      "Epoch 168/200\n",
      "929/929 [==============================] - 0s 521us/step - loss: 0.0017\n",
      "Epoch 169/200\n",
      "929/929 [==============================] - 1s 555us/step - loss: 0.0017\n",
      "Epoch 170/200\n",
      "929/929 [==============================] - 1s 539us/step - loss: 0.0020\n",
      "Epoch 171/200\n",
      "929/929 [==============================] - 1s 538us/step - loss: 0.0016\n",
      "Epoch 172/200\n",
      "929/929 [==============================] - 1s 538us/step - loss: 0.0016\n",
      "Epoch 173/200\n",
      "929/929 [==============================] - 1s 538us/step - loss: 0.0017\n",
      "Epoch 174/200\n",
      "929/929 [==============================] - 1s 538us/step - loss: 0.0025\n",
      "Epoch 175/200\n",
      "929/929 [==============================] - 1s 538us/step - loss: 0.0018\n",
      "Epoch 176/200\n",
      "929/929 [==============================] - 1s 538us/step - loss: 0.0016\n",
      "Epoch 177/200\n",
      "929/929 [==============================] - 1s 538us/step - loss: 0.0016\n",
      "Epoch 178/200\n",
      "929/929 [==============================] - 0s 521us/step - loss: 0.0016\n",
      "Epoch 179/200\n",
      "929/929 [==============================] - 0s 521us/step - loss: 0.0017\n",
      "Epoch 180/200\n",
      "929/929 [==============================] - 0s 521us/step - loss: 0.0016\n",
      "Epoch 181/200\n",
      "929/929 [==============================] - 0s 505us/step - loss: 0.0016\n",
      "Epoch 182/200\n",
      "929/929 [==============================] - 1s 538us/step - loss: 0.0016\n",
      "Epoch 183/200\n",
      "929/929 [==============================] - 1s 555us/step - loss: 0.0017\n",
      "Epoch 184/200\n",
      "929/929 [==============================] - 1s 538us/step - loss: 0.0016\n",
      "Epoch 185/200\n",
      "929/929 [==============================] - 1s 555us/step - loss: 0.0017\n",
      "Epoch 186/200\n",
      "929/929 [==============================] - 1s 538us/step - loss: 0.0017\n",
      "Epoch 187/200\n",
      "929/929 [==============================] - 1s 538us/step - loss: 0.0018\n",
      "Epoch 188/200\n",
      "929/929 [==============================] - 1s 538us/step - loss: 0.0015\n",
      "Epoch 189/200\n",
      "929/929 [==============================] - 1s 538us/step - loss: 0.0016\n",
      "Epoch 190/200\n",
      "929/929 [==============================] - 1s 538us/step - loss: 0.0018\n",
      "Epoch 191/200\n",
      "929/929 [==============================] - 1s 555us/step - loss: 0.0025\n",
      "Epoch 192/200\n"
     ]
    },
    {
     "name": "stdout",
     "output_type": "stream",
     "text": [
      "929/929 [==============================] - 1s 538us/step - loss: 0.0017\n",
      "Epoch 193/200\n",
      "929/929 [==============================] - 1s 572us/step - loss: 0.0016\n",
      "Epoch 194/200\n",
      "929/929 [==============================] - 1s 538us/step - loss: 0.0016\n",
      "Epoch 195/200\n",
      "929/929 [==============================] - 1s 538us/step - loss: 0.0014\n",
      "Epoch 196/200\n",
      "929/929 [==============================] - 1s 555us/step - loss: 0.0016\n",
      "Epoch 197/200\n",
      "929/929 [==============================] - 1s 538us/step - loss: 0.0016\n",
      "Epoch 198/200\n",
      "929/929 [==============================] - 1s 555us/step - loss: 0.0016\n",
      "Epoch 199/200\n",
      "929/929 [==============================] - 1s 538us/step - loss: 0.0016\n",
      "Epoch 200/200\n",
      "929/929 [==============================] - 1s 538us/step - loss: 0.0015\n"
     ]
    },
    {
     "data": {
      "text/plain": [
       "<keras.callbacks.History at 0xb120716ef0>"
      ]
     },
     "execution_count": 26,
     "metadata": {},
     "output_type": "execute_result"
    }
   ],
   "source": [
    "regressor = Sequential()\n",
    "\n",
    "regressor.add(LSTM(units = 50, return_sequences=True, input_shape=(X_train.shape[1],1)))\n",
    "regressor.add(Dropout(0.2))\n",
    "\n",
    "regressor.add(LSTM(units=50, return_sequences=True))\n",
    "regressor.add(Dropout(0.2))\n",
    "\n",
    "regressor.add(LSTM(units=50, return_sequences=True))\n",
    "regressor.add(Dropout(0.2))\n",
    "\n",
    "regressor.add(LSTM(units=50))\n",
    "regressor.add(Dropout(0.2))\n",
    "\n",
    "regressor.add(Dense(units=1))\n",
    "\n",
    "regressor.compile(optimizer ='adam', loss='mean_squared_error')\n",
    "\n",
    "regressor.fit(X_train, y_train, epochs=100, batch_size = 16)"
   ]
  },
  {
   "cell_type": "code",
   "execution_count": 117,
   "metadata": {},
   "outputs": [
    {
     "data": {
      "text/plain": [
       "['regressor_apple.pkl']"
      ]
     },
     "execution_count": 117,
     "metadata": {},
     "output_type": "execute_result"
    }
   ],
   "source": [
    "\n",
    "joblib.dump(regressor, 'regressor_apple.pkl')"
   ]
  },
  {
   "cell_type": "code",
   "execution_count": 103,
   "metadata": {},
   "outputs": [
    {
     "data": {
      "text/plain": [
       "934"
      ]
     },
     "execution_count": 103,
     "metadata": {},
     "output_type": "execute_result"
    }
   ],
   "source": [
    "len(training_set)"
   ]
  },
  {
   "cell_type": "code",
   "execution_count": 104,
   "metadata": {},
   "outputs": [
    {
     "data": {
      "text/plain": [
       "16"
      ]
     },
     "execution_count": 104,
     "metadata": {},
     "output_type": "execute_result"
    }
   ],
   "source": [
    "len(test_set)"
   ]
  },
  {
   "cell_type": "code",
   "execution_count": 7,
   "metadata": {},
   "outputs": [
    {
     "data": {
      "text/plain": [
       "(950, 1)"
      ]
     },
     "execution_count": 7,
     "metadata": {},
     "output_type": "execute_result"
    }
   ],
   "source": [
    "dataset_total = pd.concat((pd.DataFrame(training_set), pd.DataFrame(test_set)), axis=0)\n",
    "inputs = dataset_total[len(dataset_train)-len(test_set)-data_length:].values\n",
    "inputs = inputs.reshape(-1, 1)\n",
    "inputs = sc.transform(inputs)\n",
    "\n",
    "dataset_total.shape"
   ]
  },
  {
   "cell_type": "code",
   "execution_count": 8,
   "metadata": {},
   "outputs": [
    {
     "name": "stderr",
     "output_type": "stream",
     "text": [
      "Using TensorFlow backend.\n"
     ]
    },
    {
     "name": "stdout",
     "output_type": "stream",
     "text": [
      "WARNING:tensorflow:From c:\\users\\user\\appdata\\local\\programs\\python\\python36\\lib\\site-packages\\tensorflow\\python\\framework\\op_def_library.py:263: colocate_with (from tensorflow.python.framework.ops) is deprecated and will be removed in a future version.\n",
      "Instructions for updating:\n",
      "Colocations handled automatically by placer.\n",
      "WARNING:tensorflow:From c:\\users\\user\\appdata\\local\\programs\\python\\python36\\lib\\site-packages\\keras\\backend\\tensorflow_backend.py:3445: calling dropout (from tensorflow.python.ops.nn_ops) with keep_prob is deprecated and will be removed in a future version.\n",
      "Instructions for updating:\n",
      "Please use `rate` instead of `keep_prob`. Rate should be set to `rate = 1 - keep_prob`.\n",
      "WARNING:tensorflow:From c:\\users\\user\\appdata\\local\\programs\\python\\python36\\lib\\site-packages\\tensorflow\\python\\ops\\math_ops.py:3066: to_int32 (from tensorflow.python.ops.math_ops) is deprecated and will be removed in a future version.\n",
      "Instructions for updating:\n",
      "Use tf.cast instead.\n"
     ]
    }
   ],
   "source": [
    "regressor = joblib.load('regressor_apple.pkl')"
   ]
  },
  {
   "cell_type": "code",
   "execution_count": 9,
   "metadata": {},
   "outputs": [],
   "source": [
    "X_test = []\n",
    "y_test = []\n",
    "\n",
    "for i in range(data_length, data_length+len(test_set)):\n",
    "    X_test.append(inputs[i-data_length:i, 0])\n",
    "    y_test.append(inputs[i, 0])\n",
    "    \n",
    "X_test = np.array(X_test)\n",
    "y_test = np.array(y_test)\n",
    "X_test = np.reshape(X_test, (X_test.shape[0], X_test.shape[1], 1))\n",
    "y_test = np.reshape(y_test, (y_test.shape[0], 1))\n",
    "predicted_stock_price = regressor.predict(X_test)\n",
    "predicted_stock_price = sc.inverse_transform(predicted_stock_price)\n",
    "real_stock_price = sc.inverse_transform(y_test)\n"
   ]
  },
  {
   "cell_type": "code",
   "execution_count": 115,
   "metadata": {},
   "outputs": [
    {
     "name": "stdout",
     "output_type": "stream",
     "text": [
      "[173.49579]\n",
      "[176.35]\n"
     ]
    }
   ],
   "source": [
    "print(predicted_stock_price[3])\n",
    "print(real_stock_price[3])"
   ]
  },
  {
   "cell_type": "code",
   "execution_count": 10,
   "metadata": {},
   "outputs": [
    {
     "data": {
      "image/png": "[encoded data removed]",
      "text/plain": [
       "<Figure size 432x288 with 1 Axes>"
      ]
     },
     "metadata": {
      "needs_background": "light"
     },
     "output_type": "display_data"
    }
   ],
   "source": [
    "plt.plot(real_stock_price, color ='black', label='Apple Stock Price')\n",
    "plt.plot(predicted_stock_price, color='green', label = 'Predicted Apple Stock Price')\n",
    "plt.title(\"Apple Stock Price Prediction\")\n",
    "plt.xlabel('time')\n",
    "plt.ylabel('Apple Stock Price')\n",
    "plt.legend()\n",
    "plt.show()"
   ]
  },
  {
   "cell_type": "code",
   "execution_count": null,
   "metadata": {},
   "outputs": [],
   "source": []
  }
 ],
 "metadata": {
  "kernelspec": {
   "display_name": "Python 3",
   "language": "python",
   "name": "python3"
  },
  "language_info": {
   "codemirror_mode": {
    "name": "ipython",
    "version": 3
   },
   "file_extension": ".py",
   "mimetype": "text/x-python",
   "name": "python",
   "nbconvert_exporter": "python",
   "pygments_lexer": "ipython3",
   "version": "3.6.8"
  }
 },
 "nbformat": 4,
 "nbformat_minor": 2
}
