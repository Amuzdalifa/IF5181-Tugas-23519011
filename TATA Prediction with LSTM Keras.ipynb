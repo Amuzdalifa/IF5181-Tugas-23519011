{
 "cells": [
  {
   "cell_type": "code",
   "execution_count": 1,
   "metadata": {},
   "outputs": [],
   "source": [
    "import numpy as np\n",
    "import matplotlib.pyplot as plt\n",
    "import pandas as pd\n"
   ]
  },
  {
   "cell_type": "code",
   "execution_count": 2,
   "metadata": {},
   "outputs": [
    {
     "name": "stderr",
     "output_type": "stream",
     "text": [
      "Using TensorFlow backend.\n"
     ]
    }
   ],
   "source": [
    "from keras.models import Sequential\n",
    "from keras.layers import Dense, LSTM, Dropout"
   ]
  },
  {
   "cell_type": "code",
   "execution_count": 3,
   "metadata": {},
   "outputs": [
    {
     "data": {
      "text/html": [
       "<div>\n",
       "<style scoped>\n",
       "    .dataframe tbody tr th:only-of-type {\n",
       "        vertical-align: middle;\n",
       "    }\n",
       "\n",
       "    .dataframe tbody tr th {\n",
       "        vertical-align: top;\n",
       "    }\n",
       "\n",
       "    .dataframe thead th {\n",
       "        text-align: right;\n",
       "    }\n",
       "</style>\n",
       "<table border=\"1\" class=\"dataframe\">\n",
       "  <thead>\n",
       "    <tr style=\"text-align: right;\">\n",
       "      <th></th>\n",
       "      <th>Date</th>\n",
       "      <th>Open</th>\n",
       "      <th>High</th>\n",
       "      <th>Low</th>\n",
       "      <th>Last</th>\n",
       "      <th>Close</th>\n",
       "      <th>Total Trade Quantity</th>\n",
       "      <th>Turnover (Lacs)</th>\n",
       "    </tr>\n",
       "  </thead>\n",
       "  <tbody>\n",
       "    <tr>\n",
       "      <th>0</th>\n",
       "      <td>2018-09-28</td>\n",
       "      <td>234.05</td>\n",
       "      <td>235.95</td>\n",
       "      <td>230.2</td>\n",
       "      <td>233.5</td>\n",
       "      <td>233.75</td>\n",
       "      <td>3069914</td>\n",
       "      <td>7162.35</td>\n",
       "    </tr>\n",
       "    <tr>\n",
       "      <th>1</th>\n",
       "      <td>2018-09-27</td>\n",
       "      <td>234.55</td>\n",
       "      <td>236.80</td>\n",
       "      <td>231.1</td>\n",
       "      <td>233.8</td>\n",
       "      <td>233.25</td>\n",
       "      <td>5082859</td>\n",
       "      <td>11859.95</td>\n",
       "    </tr>\n",
       "    <tr>\n",
       "      <th>2</th>\n",
       "      <td>2018-09-26</td>\n",
       "      <td>240.00</td>\n",
       "      <td>240.00</td>\n",
       "      <td>232.5</td>\n",
       "      <td>235.0</td>\n",
       "      <td>234.25</td>\n",
       "      <td>2240909</td>\n",
       "      <td>5248.60</td>\n",
       "    </tr>\n",
       "  </tbody>\n",
       "</table>\n",
       "</div>"
      ],
      "text/plain": [
       "         Date    Open    High    Low   Last   Close  Total Trade Quantity  \\\n",
       "0  2018-09-28  234.05  235.95  230.2  233.5  233.75               3069914   \n",
       "1  2018-09-27  234.55  236.80  231.1  233.8  233.25               5082859   \n",
       "2  2018-09-26  240.00  240.00  232.5  235.0  234.25               2240909   \n",
       "\n",
       "   Turnover (Lacs)  \n",
       "0          7162.35  \n",
       "1         11859.95  \n",
       "2          5248.60  "
      ]
     },
     "execution_count": 3,
     "metadata": {},
     "output_type": "execute_result"
    }
   ],
   "source": [
    "dataset_train  = pd.read_csv('datasets/NSE-TATAGLOBAL.csv')\n",
    "training_set = dataset_train.iloc[:, 1:2].values\n",
    "\n",
    "dataset_train.head(3)"
   ]
  },
  {
   "cell_type": "code",
   "execution_count": 8,
   "metadata": {},
   "outputs": [
    {
     "name": "stdout",
     "output_type": "stream",
     "text": [
      "[[117.6]\n",
      " [120.1]\n",
      " [121.8]\n",
      " [120.3]\n",
      " [122.1]]\n"
     ]
    }
   ],
   "source": [
    "print(training_set[2030:])"
   ]
  },
  {
   "cell_type": "code",
   "execution_count": 9,
   "metadata": {},
   "outputs": [],
   "source": [
    "from sklearn.preprocessing import MinMaxScaler\n",
    "sc = MinMaxScaler(feature_range=(0,1))\n",
    "training_set_scaled = sc.fit_transform(training_set)"
   ]
  },
  {
   "cell_type": "code",
   "execution_count": 10,
   "metadata": {},
   "outputs": [
    {
     "name": "stdout",
     "output_type": "stream",
     "text": [
      "[[0.14801298]\n",
      " [0.15815085]\n",
      " [0.16504461]\n",
      " [0.15896188]\n",
      " [0.16626115]]\n"
     ]
    }
   ],
   "source": [
    "print(training_set_scaled[2030:])"
   ]
  },
  {
   "cell_type": "code",
   "execution_count": 17,
   "metadata": {},
   "outputs": [
    {
     "data": {
      "text/plain": [
       "array([0.6202352])"
      ]
     },
     "execution_count": 17,
     "metadata": {},
     "output_type": "execute_result"
    }
   ],
   "source": [
    "training_set_scaled[0]"
   ]
  },
  {
   "cell_type": "code",
   "execution_count": 11,
   "metadata": {},
   "outputs": [
    {
     "data": {
      "text/plain": [
       "(2035, 8)"
      ]
     },
     "execution_count": 11,
     "metadata": {},
     "output_type": "execute_result"
    }
   ],
   "source": [
    "dataset_train.shape"
   ]
  },
  {
   "cell_type": "code",
   "execution_count": 12,
   "metadata": {},
   "outputs": [],
   "source": [
    "X_train = []\n",
    "y_train = []\n",
    "\n",
    "data_length = 30\n",
    "for i in range(data_length, dataset_train.shape[0]):\n",
    "    X_train.append(training_set_scaled[i-data_length:i, 0])\n",
    "    y_train.append(training_set_scaled[i, 0])\n",
    "X_train, y_train = np.array(X_train), np.array(y_train)\n",
    "    \n",
    "X_train = np.reshape(X_train, (X_train.shape[0], X_train.shape[1], 1))"
   ]
  },
  {
   "cell_type": "code",
   "execution_count": 16,
   "metadata": {},
   "outputs": [
    {
     "name": "stdout",
     "output_type": "stream",
     "text": [
      "[[0.620235198702352], [0.6222627737226277], [0.6443633414436334], [0.6171938361719383], [0.6182076236820763], [0.6240875912408759], [0.6279399837793997], [0.6358475263584753], [0.6165855636658556], [0.577250608272506], [0.5484590429845904], [0.5733982157339821], [0.5733982157339821], [0.5673154906731549], [0.5794809407948094], [0.5713706407137064], [0.6370640713706407], [0.6281427412814273], [0.6321978913219789], [0.6255068937550688], [0.6194241686942417], [0.6321978913219789], [0.6111111111111112], [0.6220600162206001], [0.6455798864557989], [0.6723438767234386], [0.6605839416058394], [0.6476074614760746], [0.628345498783455], [0.6240875912408759]]\n"
     ]
    }
   ],
   "source": [
    "print(X_train[0].tolist())"
   ]
  },
  {
   "cell_type": "code",
   "execution_count": 57,
   "metadata": {},
   "outputs": [
    {
     "name": "stdout",
     "output_type": "stream",
     "text": [
      "Epoch 1/100\n",
      "2005/2005 [==============================] - 25s 13ms/step - loss: 0.0115\n",
      "Epoch 2/100\n",
      "2005/2005 [==============================] - 4s 2ms/step - loss: 0.0031\n",
      "Epoch 3/100\n",
      "2005/2005 [==============================] - 4s 2ms/step - loss: 0.0028\n",
      "Epoch 4/100\n",
      "2005/2005 [==============================] - 4s 2ms/step - loss: 0.0028\n",
      "Epoch 5/100\n",
      "2005/2005 [==============================] - 4s 2ms/step - loss: 0.0027\n",
      "Epoch 6/100\n",
      "2005/2005 [==============================] - 4s 2ms/step - loss: 0.0025\n",
      "Epoch 7/100\n",
      "2005/2005 [==============================] - 4s 2ms/step - loss: 0.0025\n",
      "Epoch 8/100\n",
      "2005/2005 [==============================] - 4s 2ms/step - loss: 0.0021\n",
      "Epoch 9/100\n",
      "2005/2005 [==============================] - 4s 2ms/step - loss: 0.0022\n",
      "Epoch 10/100\n",
      "2005/2005 [==============================] - 4s 2ms/step - loss: 0.0018\n",
      "Epoch 11/100\n",
      "2005/2005 [==============================] - 4s 2ms/step - loss: 0.0018\n",
      "Epoch 12/100\n",
      "2005/2005 [==============================] - 4s 2ms/step - loss: 0.0017\n",
      "Epoch 13/100\n",
      "2005/2005 [==============================] - 5s 2ms/step - loss: 0.0017\n",
      "Epoch 14/100\n",
      "2005/2005 [==============================] - 5s 2ms/step - loss: 0.0017\n",
      "Epoch 15/100\n",
      "2005/2005 [==============================] - 5s 2ms/step - loss: 0.0016\n",
      "Epoch 16/100\n",
      "2005/2005 [==============================] - 5s 2ms/step - loss: 0.0017\n",
      "Epoch 17/100\n",
      "2005/2005 [==============================] - 5s 2ms/step - loss: 0.0014\n",
      "Epoch 18/100\n",
      "2005/2005 [==============================] - 5s 2ms/step - loss: 0.0014\n",
      "Epoch 19/100\n",
      "2005/2005 [==============================] - 5s 2ms/step - loss: 0.0013\n",
      "Epoch 20/100\n",
      "2005/2005 [==============================] - 5s 2ms/step - loss: 0.0013\n",
      "Epoch 21/100\n",
      "2005/2005 [==============================] - 5s 2ms/step - loss: 0.0015\n",
      "Epoch 22/100\n",
      "2005/2005 [==============================] - 5s 2ms/step - loss: 0.0012\n",
      "Epoch 23/100\n",
      "2005/2005 [==============================] - 5s 2ms/step - loss: 0.0013\n",
      "Epoch 24/100\n",
      "2005/2005 [==============================] - 5s 2ms/step - loss: 0.0012\n",
      "Epoch 25/100\n",
      "2005/2005 [==============================] - 5s 2ms/step - loss: 0.0012\n",
      "Epoch 26/100\n",
      "2005/2005 [==============================] - 5s 2ms/step - loss: 0.0011\n",
      "Epoch 27/100\n",
      "2005/2005 [==============================] - 5s 2ms/step - loss: 0.0012\n",
      "Epoch 28/100\n",
      "2005/2005 [==============================] - 5s 2ms/step - loss: 0.0010\n",
      "Epoch 29/100\n",
      "2005/2005 [==============================] - 5s 2ms/step - loss: 0.0011\n",
      "Epoch 30/100\n",
      "2005/2005 [==============================] - 5s 2ms/step - loss: 0.0012\n",
      "Epoch 31/100\n",
      "2005/2005 [==============================] - 5s 2ms/step - loss: 0.0011\n",
      "Epoch 32/100\n",
      "2005/2005 [==============================] - 5s 2ms/step - loss: 0.0011\n",
      "Epoch 33/100\n",
      "2005/2005 [==============================] - 5s 2ms/step - loss: 9.8960e-04\n",
      "Epoch 34/100\n",
      "2005/2005 [==============================] - 5s 3ms/step - loss: 0.0012\n",
      "Epoch 35/100\n",
      "2005/2005 [==============================] - 5s 2ms/step - loss: 0.0011\n",
      "Epoch 36/100\n",
      "2005/2005 [==============================] - 5s 2ms/step - loss: 9.1925e-04\n",
      "Epoch 37/100\n",
      "2005/2005 [==============================] - 5s 2ms/step - loss: 8.9181e-04\n",
      "Epoch 38/100\n",
      "2005/2005 [==============================] - 5s 2ms/step - loss: 0.0011\n",
      "Epoch 39/100\n",
      "2005/2005 [==============================] - 5s 2ms/step - loss: 9.5260e-04\n",
      "Epoch 40/100\n",
      "2005/2005 [==============================] - 5s 2ms/step - loss: 9.0168e-04\n",
      "Epoch 41/100\n",
      "2005/2005 [==============================] - 5s 2ms/step - loss: 9.1920e-04\n",
      "Epoch 42/100\n",
      "2005/2005 [==============================] - 5s 2ms/step - loss: 9.4659e-04\n",
      "Epoch 43/100\n",
      "2005/2005 [==============================] - 5s 2ms/step - loss: 8.7188e-04\n",
      "Epoch 44/100\n",
      "2005/2005 [==============================] - 5s 2ms/step - loss: 8.6369e-04\n",
      "Epoch 45/100\n",
      "2005/2005 [==============================] - 5s 2ms/step - loss: 9.0111e-04\n",
      "Epoch 46/100\n",
      "2005/2005 [==============================] - 5s 2ms/step - loss: 8.1503e-04\n",
      "Epoch 47/100\n",
      "2005/2005 [==============================] - 5s 2ms/step - loss: 8.9351e-04\n",
      "Epoch 48/100\n",
      "2005/2005 [==============================] - 5s 2ms/step - loss: 8.9900e-04\n",
      "Epoch 49/100\n",
      "2005/2005 [==============================] - 5s 2ms/step - loss: 7.7084e-04\n",
      "Epoch 50/100\n",
      "2005/2005 [==============================] - 5s 2ms/step - loss: 7.8771e-04\n",
      "Epoch 51/100\n",
      "2005/2005 [==============================] - 5s 2ms/step - loss: 8.6387e-04\n",
      "Epoch 52/100\n",
      "2005/2005 [==============================] - 5s 2ms/step - loss: 7.9106e-04\n",
      "Epoch 53/100\n",
      "2005/2005 [==============================] - 5s 2ms/step - loss: 8.3171e-04\n",
      "Epoch 54/100\n",
      "2005/2005 [==============================] - 5s 2ms/step - loss: 8.3095e-04\n",
      "Epoch 55/100\n",
      "2005/2005 [==============================] - 5s 2ms/step - loss: 0.0012\n",
      "Epoch 56/100\n",
      "2005/2005 [==============================] - 5s 2ms/step - loss: 8.7323e-04\n",
      "Epoch 57/100\n",
      "2005/2005 [==============================] - 5s 2ms/step - loss: 8.0459e-04\n",
      "Epoch 58/100\n",
      "2005/2005 [==============================] - 5s 2ms/step - loss: 8.5760e-04\n",
      "Epoch 59/100\n",
      "2005/2005 [==============================] - 5s 2ms/step - loss: 8.6979e-04\n",
      "Epoch 60/100\n",
      "2005/2005 [==============================] - 5s 2ms/step - loss: 8.4600e-04\n",
      "Epoch 61/100\n",
      "2005/2005 [==============================] - 5s 2ms/step - loss: 7.5601e-04\n",
      "Epoch 62/100\n",
      "2005/2005 [==============================] - 5s 2ms/step - loss: 8.4346e-04\n",
      "Epoch 63/100\n",
      "2005/2005 [==============================] - 5s 2ms/step - loss: 7.1005e-04\n",
      "Epoch 64/100\n",
      "2005/2005 [==============================] - 5s 2ms/step - loss: 9.7808e-04\n",
      "Epoch 65/100\n",
      "2005/2005 [==============================] - 5s 2ms/step - loss: 7.8680e-04\n",
      "Epoch 66/100\n",
      "2005/2005 [==============================] - 5s 2ms/step - loss: 7.2660e-04\n",
      "Epoch 67/100\n",
      "2005/2005 [==============================] - 5s 2ms/step - loss: 6.4296e-04\n",
      "Epoch 68/100\n",
      "2005/2005 [==============================] - 5s 2ms/step - loss: 7.7429e-04\n",
      "Epoch 69/100\n",
      "2005/2005 [==============================] - 5s 2ms/step - loss: 7.5851e-04\n",
      "Epoch 70/100\n",
      "2005/2005 [==============================] - 5s 2ms/step - loss: 8.0482e-04\n",
      "Epoch 71/100\n",
      "2005/2005 [==============================] - 5s 2ms/step - loss: 7.9435e-04\n",
      "Epoch 72/100\n",
      "2005/2005 [==============================] - 5s 2ms/step - loss: 8.3146e-04\n",
      "Epoch 73/100\n",
      "2005/2005 [==============================] - 5s 2ms/step - loss: 6.6951e-04\n",
      "Epoch 74/100\n",
      "2005/2005 [==============================] - 5s 2ms/step - loss: 6.6107e-04\n",
      "Epoch 75/100\n",
      "2005/2005 [==============================] - 5s 2ms/step - loss: 7.2512e-04\n",
      "Epoch 76/100\n",
      "2005/2005 [==============================] - 5s 2ms/step - loss: 6.9079e-04\n",
      "Epoch 77/100\n",
      "2005/2005 [==============================] - 5s 3ms/step - loss: 6.9451e-04\n",
      "Epoch 78/100\n",
      "2005/2005 [==============================] - 5s 2ms/step - loss: 7.1387e-04\n",
      "Epoch 79/100\n",
      "2005/2005 [==============================] - 5s 2ms/step - loss: 6.3354e-04\n",
      "Epoch 80/100\n",
      "2005/2005 [==============================] - 5s 2ms/step - loss: 6.3940e-04\n",
      "Epoch 81/100\n",
      "2005/2005 [==============================] - 5s 2ms/step - loss: 6.7180e-04\n",
      "Epoch 82/100\n",
      "2005/2005 [==============================] - 5s 2ms/step - loss: 6.6093e-04\n",
      "Epoch 83/100\n",
      "2005/2005 [==============================] - 5s 2ms/step - loss: 6.6023e-04\n",
      "Epoch 84/100\n",
      "2005/2005 [==============================] - 5s 2ms/step - loss: 6.5537e-04\n",
      "Epoch 85/100\n",
      "2005/2005 [==============================] - 5s 2ms/step - loss: 5.7814e-04\n",
      "Epoch 86/100\n",
      "2005/2005 [==============================] - 5s 2ms/step - loss: 6.6799e-04\n",
      "Epoch 87/100\n",
      "2005/2005 [==============================] - 5s 2ms/step - loss: 8.6630e-04\n",
      "Epoch 88/100\n",
      "2005/2005 [==============================] - 5s 2ms/step - loss: 6.3793e-04\n",
      "Epoch 89/100\n",
      "2005/2005 [==============================] - 5s 2ms/step - loss: 6.5843e-04\n",
      "Epoch 90/100\n",
      "2005/2005 [==============================] - 5s 2ms/step - loss: 7.0238e-04\n",
      "Epoch 91/100\n",
      "2005/2005 [==============================] - 5s 2ms/step - loss: 5.9607e-04\n",
      "Epoch 92/100\n",
      "2005/2005 [==============================] - 5s 2ms/step - loss: 6.4412e-04\n",
      "Epoch 93/100\n",
      "2005/2005 [==============================] - 5s 2ms/step - loss: 6.7422e-04\n",
      "Epoch 94/100\n",
      "2005/2005 [==============================] - 5s 2ms/step - loss: 6.6561e-04\n",
      "Epoch 95/100\n",
      "2005/2005 [==============================] - 5s 2ms/step - loss: 6.5481e-04\n",
      "Epoch 96/100\n",
      "2005/2005 [==============================] - 5s 2ms/step - loss: 6.5630e-04\n",
      "Epoch 97/100\n",
      "2005/2005 [==============================] - 5s 2ms/step - loss: 6.5992e-04\n",
      "Epoch 98/100\n",
      "2005/2005 [==============================] - 5s 2ms/step - loss: 6.2340e-04\n",
      "Epoch 99/100\n",
      "2005/2005 [==============================] - 5s 2ms/step - loss: 7.1123e-04\n",
      "Epoch 100/100\n",
      "2005/2005 [==============================] - 5s 2ms/step - loss: 5.5416e-04\n"
     ]
    },
    {
     "data": {
      "text/plain": [
       "<keras.callbacks.History at 0x6fe6dd95f8>"
      ]
     },
     "execution_count": 57,
     "metadata": {},
     "output_type": "execute_result"
    }
   ],
   "source": [
    "regressor = Sequential()\n",
    "\n",
    "regressor.add(LSTM(units = 50, return_sequences=True, input_shape=(X_train.shape[1],1)))\n",
    "regressor.add(Dropout(0.2))\n",
    "\n",
    "regressor.add(LSTM(units=50, return_sequences=True))\n",
    "regressor.add(Dropout(0.2))\n",
    "\n",
    "regressor.add(LSTM(units=50, return_sequences=True))\n",
    "regressor.add(Dropout(0.2))\n",
    "\n",
    "regressor.add(LSTM(units=50))\n",
    "regressor.add(Dropout(0.2))\n",
    "\n",
    "regressor.add(Dense(units=1))\n",
    "\n",
    "regressor.compile(optimizer ='adam', loss='mean_squared_error')\n",
    "\n",
    "regressor.fit(X_train, y_train, epochs=100, batch_size = 32)"
   ]
  },
  {
   "cell_type": "code",
   "execution_count": 65,
   "metadata": {},
   "outputs": [
    {
     "data": {
      "text/plain": [
       "['regressor.pkl']"
      ]
     },
     "execution_count": 65,
     "metadata": {},
     "output_type": "execute_result"
    }
   ],
   "source": [
    "from sklearn.externals import joblib\n",
    "\n",
    "joblib.dump(regressor, 'regressor.pkl')"
   ]
  },
  {
   "cell_type": "code",
   "execution_count": 37,
   "metadata": {},
   "outputs": [],
   "source": [
    "dataset_test = pd.read_csv('datasets/tatatest.csv')"
   ]
  },
  {
   "cell_type": "code",
   "execution_count": 58,
   "metadata": {},
   "outputs": [
    {
     "data": {
      "text/plain": [
       "(16, 1)"
      ]
     },
     "execution_count": 58,
     "metadata": {},
     "output_type": "execute_result"
    }
   ],
   "source": [
    "dataset_total = pd.concat((dataset_train['Open'], dataset_test['Open']), axis=0)\n",
    "inputs = dataset_total[len(dataset_total)-len(dataset_test)-data_length:].values\n",
    "inputs = inputs.reshape(-1, 1)\n",
    "inputs = sc.transform(inputs)\n",
    "X_test = []\n",
    "y_test = []\n",
    "\n",
    "for i in range(data_length, data_length+len(dataset_test)):\n",
    "    X_test.append(inputs[i-data_length:i, 0])\n",
    "    y_test.append(inputs[i, 0])\n",
    "    \n",
    "X_test = np.array(X_test)\n",
    "y_test = np.array(y_test)\n",
    "X_test = np.reshape(X_test, (X_test.shape[0], X_test.shape[1], 1))\n",
    "y_test = np.reshape(y_test, (y_test.shape[0], 1))\n",
    "predicted_stock_price = regressor.predict(X_test)\n",
    "predicted_stock_price = sc.inverse_transform(predicted_stock_price)\n",
    "real_stock_price = sc.inverse_transform(y_test)\n",
    "\n",
    "real_stock_price.shape"
   ]
  },
  {
   "cell_type": "code",
   "execution_count": 59,
   "metadata": {},
   "outputs": [
    {
     "name": "stdout",
     "output_type": "stream",
     "text": [
      "[[220.1 ]\n",
      " [221.1 ]\n",
      " [229.45]\n",
      " [230.3 ]\n",
      " [237.7 ]\n",
      " [237.1 ]\n",
      " [229.7 ]\n",
      " [226.25]\n",
      " [215.  ]\n",
      " [215.  ]\n",
      " [215.5 ]\n",
      " [208.  ]\n",
      " [217.  ]\n",
      " [223.5 ]\n",
      " [230.  ]\n",
      " [234.55]]\n"
     ]
    }
   ],
   "source": [
    "print(real_stock_price)"
   ]
  },
  {
   "cell_type": "code",
   "execution_count": 60,
   "metadata": {},
   "outputs": [
    {
     "name": "stdout",
     "output_type": "stream",
     "text": [
      "[185.17152]\n",
      "[221.1]\n"
     ]
    }
   ],
   "source": [
    "print(predicted_stock_price[1])\n",
    "print(real_stock_price[1])"
   ]
  },
  {
   "cell_type": "code",
   "execution_count": 64,
   "metadata": {},
   "outputs": [
    {
     "data": {
      "image/png": "[encoded data removed]",
      "text/plain": [
       "<Figure size 432x288 with 1 Axes>"
      ]
     },
     "metadata": {
      "needs_background": "light"
     },
     "output_type": "display_data"
    }
   ],
   "source": [
    "plt.plot(real_stock_price, color ='black', label='TATA Stock Price')\n",
    "plt.plot(predicted_stock_price, color='green', label = 'Predicted TATA Stock Price')\n",
    "plt.title(\"TATA Stock Price Prediction\")\n",
    "plt.xlabel('time')\n",
    "plt.ylabel('TATA Stock Price')\n",
    "plt.legend()\n",
    "plt.show()"
   ]
  },
  {
   "cell_type": "code",
   "execution_count": null,
   "metadata": {},
   "outputs": [],
   "source": []
  }
 ],
 "metadata": {
  "kernelspec": {
   "display_name": "Python 3",
   "language": "python",
   "name": "python3"
  },
  "language_info": {
   "codemirror_mode": {
    "name": "ipython",
    "version": 3
   },
   "file_extension": ".py",
   "mimetype": "text/x-python",
   "name": "python",
   "nbconvert_exporter": "python",
   "pygments_lexer": "ipython3",
   "version": "3.6.8"
  }
 },
 "nbformat": 4,
 "nbformat_minor": 2
}
