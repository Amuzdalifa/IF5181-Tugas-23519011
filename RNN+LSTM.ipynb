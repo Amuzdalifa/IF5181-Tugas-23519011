{
 "cells": [
  {
   "cell_type": "markdown",
   "metadata": {},
   "source": [
    "Annisa Muzdalifa <br>\n",
    "23159011"
   ]
  },
  {
   "cell_type": "code",
   "execution_count": 1,
   "metadata": {},
   "outputs": [],
   "source": [
    "import numpy as np\n",
    "from rnn_utils import *"
   ]
  },
  {
   "cell_type": "code",
   "execution_count": 2,
   "metadata": {},
   "outputs": [],
   "source": [
    "def rnn_cell_forward(xt, a_prev, parameters):\n",
    "    Wax = parameters[\"Wax\"]\n",
    "    Waa = parameters[\"Waa\"]\n",
    "    Wya = parameters[\"Wya\"]\n",
    "    ba = parameters[\"ba\"]\n",
    "    by = parameters[\"by\"]\n",
    "    \n",
    "    a_next = np.tanh(np.dot(Wax, xt)+np.dot(Waa, a_prev)+ba)\n",
    "    yt_pred = softmax(np.dot(Wya, a_next)+by)\n",
    "    \n",
    "    cache= (a_next, a_prev, xt, parameters)\n",
    "    \n",
    "    return a_next, yt_pred, cache"
   ]
  },
  {
   "cell_type": "code",
   "execution_count": 3,
   "metadata": {},
   "outputs": [
    {
     "name": "stdout",
     "output_type": "stream",
     "text": [
      "a_next[4] [ 0.59584544  0.18141802  0.61311866  0.99808218  0.85016201  0.99980978\n",
      " -0.18887155  0.99815551  0.6531151   0.82872037]\n",
      "a_next.shape (5, 10)\n",
      "yt_pred [0.9888161  0.01682021 0.21140899 0.36817467 0.98988387 0.88945212\n",
      " 0.36920224 0.9966312  0.9982559  0.17746526]\n",
      "yt_pred.shape (2, 10)\n"
     ]
    }
   ],
   "source": [
    "np.random.seed(1)\n",
    "xt = np.random.randn(3,10)\n",
    "a_prev = np.random.randn(5, 10)\n",
    "Waa = np.random.randn(5,5)\n",
    "Wax = np.random.randn(5,3)\n",
    "Wya = np.random.randn(2,5)\n",
    "ba = np.random.randn(5,1)\n",
    "by = np.random.randn(2,1)\n",
    "parameters = {\"Waa\": Waa, \"Wax\": Wax, \"Wya\": Wya, \"ba\": ba, \"by\":by}\n",
    "\n",
    "a_next, yt_pred, cache = rnn_cell_forward(xt, a_prev, parameters)\n",
    "print(\"a_next[4]\", a_next[4])\n",
    "print(\"a_next.shape\", a_next.shape)\n",
    "print(\"yt_pred\", yt_pred[1])\n",
    "print(\"yt_pred.shape\", yt_pred.shape)"
   ]
  },
  {
   "cell_type": "code",
   "execution_count": 4,
   "metadata": {},
   "outputs": [],
   "source": [
    "def rnn_forward(x, a0, parameters):\n",
    "    caches = []\n",
    "    n_x, m, T_x = x.shape\n",
    "    n_y, n_a = parameters[\"Wya\"].shape\n",
    "    \n",
    "    a = np.zeros((n_a, m, T_x))\n",
    "    y_pred = np.zeros((n_y, m, T_x))\n",
    "\n",
    "    a_next = a0\n",
    "    \n",
    "    for t in range(0, T_x):\n",
    "        a_next, yt_pred, cache = rnn_cell_forward(x[:,:,t], a_next, parameters)\n",
    "        a[:, :, t] = a_next\n",
    "        y_pred[:, :, t] = yt_pred\n",
    "        caches.append(cache)\n",
    "        \n",
    "    caches = (caches, x)\n",
    "    return a, y_pred, caches"
   ]
  },
  {
   "cell_type": "code",
   "execution_count": 5,
   "metadata": {},
   "outputs": [
    {
     "name": "stdout",
     "output_type": "stream",
     "text": [
      "a[4][1] [-0.99999375  0.77911235 -0.99861469 -0.99833267]\n",
      "a.shape (5, 10, 4)\n",
      "y_pred[1][3] [0.79560373 0.86224861 0.11118257 0.81515947]\n",
      "y_pred.shape (2, 10, 4)\n",
      "caches[1][1][3] [-1.1425182  -0.34934272 -0.20889423  0.58662319]\n",
      "len(cache) 2\n"
     ]
    }
   ],
   "source": [
    "np.random.seed(1)\n",
    "x = np.random.randn(3, 10, 4)\n",
    "a0 = np.random.randn(5,10)\n",
    "Waa = np.random.randn(5,5)\n",
    "Wax = np.random.randn(5,3)\n",
    "Wya = np.random.randn(2,5)\n",
    "ba = np.random.randn(5,1)\n",
    "by = np.random.randn(2,1)\n",
    "parameters = {\"Waa\": Waa, \"Wax\": Wax, \"Wya\": Wya, \"ba\": ba, \"by\":by}\n",
    "\n",
    "a, y_pred, caches = rnn_forward(x, a0, parameters)\n",
    "print(\"a[4][1]\", a[4][1])\n",
    "print(\"a.shape\", a.shape)\n",
    "print(\"y_pred[1][3]\", y_pred[1][3])\n",
    "print(\"y_pred.shape\", y_pred.shape)\n",
    "print(\"caches[1][1][3]\", caches[1][1][3])\n",
    "print(\"len(cache)\", len(caches))"
   ]
  },
  {
   "cell_type": "code",
   "execution_count": 6,
   "metadata": {},
   "outputs": [],
   "source": [
    "def lstm_cell_forward(xt, a_prev, c_prev, parameters):\n",
    "    Wf = parameters[\"Wf\"]\n",
    "    bf = parameters[\"bf\"]\n",
    "    Wi = parameters[\"Wi\"]\n",
    "    bi = parameters[\"bi\"]\n",
    "    Wc = parameters[\"Wc\"]\n",
    "    bc = parameters[\"bc\"]\n",
    "    Wo = parameters[\"Wo\"]\n",
    "    bo = parameters[\"bo\"]\n",
    "    Wy = parameters[\"Wy\"]\n",
    "    by = parameters[\"by\"]\n",
    "    \n",
    "    n_x, m = xt.shape\n",
    "    n_y, n_a = Wy.shape\n",
    "\n",
    "    concat = np.zeros((n_x  + n_a, m))\n",
    "    concat[:n_a, :] = a_prev\n",
    "    concat[n_a:, :] = xt\n",
    "    \n",
    "    ft = sigmoid(np.dot(Wf, concat)+bf)\n",
    "    it = sigmoid(np.dot(Wi, concat)+bi)\n",
    "    cct = np.tanh(np.dot(Wc, concat)+bc)\n",
    "    c_next = c_prev* ft + it*cct\n",
    "    ot = sigmoid(np.dot(Wo, concat)+bo)\n",
    "    a_next = ot*np.tanh(c_next)\n",
    "    \n",
    "    yt_pred = softmax(np.dot(Wy, a_next)+by)\n",
    "    \n",
    "    cache = (a_next, c_next, a_prev, c_prev, ft, it, cct, ot, xt, parameters)\n",
    "    \n",
    "    return a_next, c_next, yt_pred, cache"
   ]
  },
  {
   "cell_type": "code",
   "execution_count": 7,
   "metadata": {},
   "outputs": [
    {
     "name": "stdout",
     "output_type": "stream",
     "text": [
      "a_next[4] [-0.66408471  0.0036921   0.02088357  0.22834167 -0.85575339  0.00138482\n",
      "  0.76566531  0.34631421 -0.00215674  0.43827275]\n",
      "a_next.shape (5, 10)\n",
      "c_next[2] [ 0.63267805  1.00570849  0.35504474  0.20690913 -1.64566718  0.11832942\n",
      "  0.76449811 -0.0981561  -0.74348425 -0.26810932]\n",
      "c_next.shape (5, 10)\n",
      "yt[1] [0.88515863 0.2693483  0.35881369 0.26375541 0.9845904  0.46704976\n",
      " 0.01810876 0.21934384 0.55723129 0.14129154]\n",
      "yt.shape (2, 10)\n",
      "cache[1][3] [-0.16263996  1.03729328  0.72938082 -0.54101719  0.02752074 -0.30821874\n",
      "  0.07651101 -1.03752894  1.41219977 -0.37647422]\n",
      "len(cache) 10\n"
     ]
    }
   ],
   "source": [
    "np.random.seed(1)\n",
    "xt = np.random.randn(3, 10)\n",
    "a_prev = np.random.randn(5, 10)\n",
    "c_prev = np.random.randn(5, 10)\n",
    "Wf = np.random.randn(5, 5+3)\n",
    "bf = np.random.randn(5, 1)\n",
    "Wi = np.random.randn(5, 5+3)\n",
    "bi = np.random.randn(5, 1)\n",
    "Wo = np.random.randn(5, 5+3)\n",
    "bo = np.random.randn(5, 1)\n",
    "Wc = np.random.randn(5, 5+3)\n",
    "bc = np.random.randn(5, 1)\n",
    "Wy = np.random.randn(2, 5)\n",
    "by = np.random.randn(1, 1)\n",
    "\n",
    "parameters = {\"Wf\": Wf, \"bf\": bf, \"Wi\": Wi, \"bi\":bi, \"Wo\":Wo, \"bo\":bo, \"Wc\":Wc, \"bc\":bc, \"Wy\":Wy, \"by\":by}\n",
    "\n",
    "a_next, c_next, yt, cache = lstm_cell_forward(xt, a_prev, c_prev, parameters)\n",
    "\n",
    "print(\"a_next[4]\", a_next[4])\n",
    "print(\"a_next.shape\", a_next.shape)\n",
    "print(\"c_next[2]\", c_next[2])\n",
    "print(\"c_next.shape\", c_next.shape)\n",
    "print(\"yt[1]\", yt[1])\n",
    "print(\"yt.shape\", yt.shape)\n",
    "print(\"cache[1][3]\", cache[1][3])\n",
    "print(\"len(cache)\", len(cache))"
   ]
  },
  {
   "cell_type": "code",
   "execution_count": 8,
   "metadata": {},
   "outputs": [],
   "source": [
    "def lstm_forward(x, a0, parameters):\n",
    "    caches = []\n",
    "    \n",
    "    n_x, m, T_x = x.shape\n",
    "    n_y, n_a = parameters[\"Wy\"].shape\n",
    "    \n",
    "    a = np.zeros((n_a, m, T_x))\n",
    "    c = np.zeros((n_a, m, T_x))\n",
    "    y = np.zeros((n_y, m, T_x))\n",
    "    \n",
    "    a_next = a0\n",
    "    c_next = np.zeros((n_a, m))\n",
    "    \n",
    "    for t in range(0, T_x):\n",
    "        a_next, c_next, yt, cache = lstm_cell_forward(x[:, :, t], a_next, c_next, parameters)\n",
    "        a[:, :, t] = a_next\n",
    "        c[:, :, t] = c_next\n",
    "        y[:, :, t] = yt\n",
    "        caches.append(cache)\n",
    "        \n",
    "    caches = (caches, x)\n",
    "    \n",
    "    return a, y, c, caches"
   ]
  },
  {
   "cell_type": "code",
   "execution_count": 9,
   "metadata": {},
   "outputs": [
    {
     "name": "stdout",
     "output_type": "stream",
     "text": [
      "a[4][3][6] 0.17211776753291672\n",
      "a.shape (5, 10, 7)\n",
      "y[1][4][3] 0.9508734618501101\n",
      "y.shape (2, 10, 7)\n",
      "caches[1][1][1] [ 0.82797464  0.23009474  0.76201118 -0.22232814 -0.20075807  0.18656139\n",
      "  0.41005165]\n",
      "c[1][2][1] -0.8555449167181981\n",
      "len(cache) 10\n"
     ]
    }
   ],
   "source": [
    "np.random.seed(1)\n",
    "x = np.random.randn(3, 10, 7)\n",
    "a0 = np.random.randn(5, 10)\n",
    "Wf = np.random.randn(5, 5+3)\n",
    "bf = np.random.randn(5, 1)\n",
    "Wi = np.random.randn(5, 5+3)\n",
    "bi = np.random.randn(5, 1)\n",
    "Wo = np.random.randn(5, 5+3)\n",
    "bo = np.random.randn(5, 1)\n",
    "Wc = np.random.randn(5, 5+3)\n",
    "bc = np.random.randn(5, 1)\n",
    "Wy = np.random.randn(2, 5)\n",
    "by = np.random.randn(2, 1)\n",
    "\n",
    "parameters = {\"Wf\": Wf, \"bf\": bf, \"Wi\": Wi, \"bi\":bi, \"Wo\":Wo, \"bo\":bo, \"Wc\":Wc, \"bc\":bc, \"Wy\":Wy, \"by\":by}\n",
    "\n",
    "a, y, c, caches = lstm_forward(x, a0, parameters)\n",
    "\n",
    "print(\"a[4][3][6]\", a[4][3][6])\n",
    "print(\"a.shape\", a.shape)\n",
    "print(\"y[1][4][3]\", y[1][4][3])\n",
    "print(\"y.shape\", y.shape)\n",
    "print(\"caches[1][1][1]\", caches[1][1][1])\n",
    "print(\"c[1][2][1]\", c[1][2][1])\n",
    "print(\"len(cache)\", len(cache))"
   ]
  },
  {
   "cell_type": "code",
   "execution_count": 10,
   "metadata": {},
   "outputs": [],
   "source": [
    "def rnn_cell_backward(da_next, cache):\n",
    "    (a_next, a_prev, xt, parameters) = cache\n",
    "    \n",
    "    Wax = parameters[\"Wax\"]\n",
    "    Waa = parameters[\"Waa\"]\n",
    "    Wya = parameters[\"Wya\"]\n",
    "    ba = parameters[\"ba\"]\n",
    "    by = parameters[\"by\"]\n",
    "    \n",
    "    dtanh = 1 - np.power(a_next, 2)\n",
    "    \n",
    "    dxt = np.dot(Wax.T, da_next*dtanh)\n",
    "    dWax = np.dot(da_next*dtanh, xt.T)\n",
    "    \n",
    "    da_prev = np.dot(Waa.T, da_next*dtanh)\n",
    "    dWaa = np.dot(da_next*dtanh, a_prev.T)\n",
    "    \n",
    "    dba = np.sum(da_next*dtanh, axis=1, keepdims=True)\n",
    "    \n",
    "    gradients = {\"dxt\":dxt, \"dWax\": dWax, \"da_prev\":da_prev, \"dWaa\": dWaa, \"dba\":dba}\n",
    "    \n",
    "    return gradients"
   ]
  },
  {
   "cell_type": "code",
   "execution_count": 11,
   "metadata": {},
   "outputs": [
    {
     "name": "stdout",
     "output_type": "stream",
     "text": [
      "gradients['dxt'][1][2]= 1.3653821219712916\n",
      "gradients['dxt'].shape= (3, 10)\n",
      "gradients['da_prev'][2][3]= -0.043577791064616234\n",
      "gradients['da_prev'].shape= (5, 10)\n",
      "gradients['dWax'][3][1]= -1.5012584841864745\n",
      "gradients['dWax'].shape= (5, 3)\n",
      "gradients['dWaa'][1][2]= 1.1441951795389382\n",
      "gradients['dWaa'].shape= (5, 5)\n",
      "gradients['dba'][4]= [1.42397243]\n",
      "gradients['dba'].shape= (5, 1)\n"
     ]
    }
   ],
   "source": [
    "np.random.seed(1)\n",
    "xt = np.random.randn(3,10)\n",
    "a_prev = np.random.randn(5, 10)\n",
    "Waa = np.random.randn(5,5)\n",
    "Wax = np.random.randn(5,3)\n",
    "Wya = np.random.randn(2,5)\n",
    "ba = np.random.randn(5,1)\n",
    "by = np.random.randn(2,1)\n",
    "parameters = {\"Waa\": Waa, \"Wax\": Wax, \"Wya\": Wya, \"ba\": ba, \"by\":by}\n",
    "\n",
    "a_next, yt_pred, cache = rnn_cell_forward(xt, a_prev, parameters)\n",
    "\n",
    "da_next = np.random.randn(5, 10)\n",
    "gradients = rnn_cell_backward(da_next, cache)\n",
    "\n",
    "print(\"gradients['dxt'][1][2]=\", gradients['dxt'][1][2])\n",
    "print(\"gradients['dxt'].shape=\", gradients['dxt'].shape)\n",
    "print(\"gradients['da_prev'][2][3]=\", gradients['da_prev'][2][3])\n",
    "print(\"gradients['da_prev'].shape=\", gradients['da_prev'].shape)\n",
    "print(\"gradients['dWax'][3][1]=\", gradients['dWax'][3][1])\n",
    "print(\"gradients['dWax'].shape=\", gradients['dWax'].shape)\n",
    "print(\"gradients['dWaa'][1][2]=\", gradients['dWaa'][1][2])\n",
    "print(\"gradients['dWaa'].shape=\", gradients['dWaa'].shape)\n",
    "print(\"gradients['dba'][4]=\", gradients['dba'][4])\n",
    "print(\"gradients['dba'].shape=\", gradients['dba'].shape)"
   ]
  },
  {
   "cell_type": "code",
   "execution_count": 12,
   "metadata": {},
   "outputs": [],
   "source": [
    "def rnn_backward(da, caches):\n",
    "    (caches, x) = caches\n",
    "    (a1, a0, x1, parameters) = caches[1]\n",
    "    \n",
    "    n_a, m, T_x = da.shape\n",
    "    n_x, m = x1.shape\n",
    "    \n",
    "    dx = np.zeros((n_x, m, T_x))\n",
    "    dWax = np.zeros((n_a, n_x))\n",
    "    dba = np.zeros((n_a, 1))\n",
    "    dWaa = np.zeros((n_a, n_a))\n",
    "    da0 = np.zeros((n_a, m))\n",
    "    da_prevt = np.zeros((n_a, m))\n",
    "    for t in reversed(range(0, T_x)):\n",
    "        gradients = rnn_cell_backward(da[:, :, t]+da_prevt, caches[t])\n",
    "        \n",
    "        dxt, da_prevt, dWaxt, dbat, dWaat = gradients[\"dxt\"], gradients[\"da_prev\"], gradients[\"dWax\"], gradients[\"dba\"], gradients[\"dWaa\"]\n",
    "        dx[:, :, t] = dxt\n",
    "        dWax += dWaxt\n",
    "        dWaa += dWaat\n",
    "        dba += dbat\n",
    "        \n",
    "    da0 = da_prevt\n",
    "    gradients = {\"dx\": dx, \"dWax\": dWax, \"dWaa\": dWaa, \"dba\":dba, \"da0\":da0}\n",
    "    return gradients"
   ]
  },
  {
   "cell_type": "code",
   "execution_count": 16,
   "metadata": {},
   "outputs": [
    {
     "name": "stdout",
     "output_type": "stream",
     "text": [
      "gradients['dx'][1][2]= [-0.86050481 -0.14439617 -0.02986862  0.10659932]\n",
      "gradients['dx'].shape= (3, 10, 4)\n",
      "gradients['da0'][2][3]= 0.0057969143465314895\n",
      "gradients['da0'].shape= (5, 10)\n",
      "gradients['dWax'][3][1]= 0.44296398799038544\n",
      "gradients['dWax'].shape= (5, 3)\n",
      "gradients['dWaa'][1][2]= 0.44183867362064544\n",
      "gradients['dWaa'].shape= (5, 5)\n",
      "gradients['dba'][4]= [-3.51296232]\n",
      "gradients['dba'].shape= (5, 1)\n"
     ]
    }
   ],
   "source": [
    "np.random.seed(1)\n",
    "x = np.random.randn(3,10, 4)\n",
    "a0 = np.random.randn(5, 10)\n",
    "Waa = np.random.randn(5,5)\n",
    "Wax = np.random.randn(5,3)\n",
    "Wya = np.random.randn(2,5)\n",
    "ba = np.random.randn(5,1)\n",
    "by = np.random.randn(2,1)\n",
    "parameters = {\"Waa\": Waa, \"Wax\": Wax, \"Wya\": Wya, \"ba\": ba, \"by\":by}\n",
    "\n",
    "a, y, caches = rnn_forward(x, a0, parameters)\n",
    "da = np.random.randn(5, 10, 4)\n",
    "gradients = rnn_backward(da, caches)\n",
    "\n",
    "print(\"gradients['dx'][1][2]=\", gradients['dx'][1][2])\n",
    "print(\"gradients['dx'].shape=\", gradients['dx'].shape)\n",
    "print(\"gradients['da0'][2][3]=\", gradients['da0'][2][3])\n",
    "print(\"gradients['da0'].shape=\", gradients['da0'].shape)\n",
    "print(\"gradients['dWax'][3][1]=\", gradients['dWax'][3][1])\n",
    "print(\"gradients['dWax'].shape=\", gradients['dWax'].shape)\n",
    "print(\"gradients['dWaa'][1][2]=\", gradients['dWaa'][1][2])\n",
    "print(\"gradients['dWaa'].shape=\", gradients['dWaa'].shape)\n",
    "print(\"gradients['dba'][4]=\", gradients['dba'][4])\n",
    "print(\"gradients['dba'].shape=\", gradients['dba'].shape)"
   ]
  },
  {
   "cell_type": "code",
   "execution_count": 19,
   "metadata": {},
   "outputs": [
    {
     "name": "stdout",
     "output_type": "stream",
     "text": [
      "[[-0.64691669  0.90148689  2.52832571 -0.24863478  0.04366899]\n",
      " [-0.22631424  1.33145711 -0.28730786  0.68006984 -0.3198016 ]\n",
      " [-1.27255876  0.31354772  0.50318481  1.29322588 -0.11044703]\n",
      " [-0.61736206  0.5627611   0.24073709  0.28066508 -0.0731127 ]\n",
      " [ 1.16033857  0.36949272  1.90465871  1.1110567   0.6590498 ]]\n",
      "[[ 0.5790693   1.00989782  0.45607653  0.47247531  0.42070208]\n",
      " [-4.0169478   1.27988543  0.44183867 -3.005149    3.68367168]\n",
      " [-1.58623708 -1.82523051  1.88662745  1.25372645  1.31696213]\n",
      " [-4.06220832 -2.19095447 -2.34204406 -2.90812842  3.40599372]\n",
      " [-1.52082597 -3.22930103 -3.15030367  2.82807664  0.79115841]]\n"
     ]
    }
   ],
   "source": [
    "print(parameters['Waa'])\n",
    "print(gradients['dWaa'])"
   ]
  },
  {
   "cell_type": "code",
   "execution_count": 14,
   "metadata": {},
   "outputs": [],
   "source": [
    "def lstm_cell_backward(da_next, dc_next, cache):\n",
    "    (a_next, c_next, a_prev, c_prev, ft, it, cct, ot, xt, parameters) = cache\n",
    "    \n",
    "    n_x, m = xt.shape\n",
    "    n_a, m = a_next.shape\n",
    "    \n",
    "    dot = da_next * np.tanh(c_next)\n",
    "    dcct = (da_next*ot * (1-np.power(np.tanh(c_next), 2)) +dc_next) * it\n",
    "    dit = (da_next*ot * (1-np.power(np.tanh(c_next), 2))+dc_next) * cct\n",
    "    dft = (da_next*ot * (1-np.power(np.tanh(c_next), 2))+dc_next) * c_prev\n",
    "    \n",
    "    dit = dit*it*(1-it)\n",
    "    dft = dft*ft*(1-ft)\n",
    "    dot = dot*ot*(1-ot)\n",
    "    dcct = 1 * (1-np.power(cct, 2))\n",
    "    \n",
    "    concat = np.zeros((n_x + n_a, m))\n",
    "    concat[:n_a, :] = a_prev\n",
    "    concat[n_a:, :] = xt\n",
    "    dWf = np.dot(dft, concat.T)\n",
    "    dWi = np.dot(dit, concat.T)\n",
    "    dWc = np.dot(dcct, concat.T)\n",
    "    dWo = np.dot(dot, concat.T)\n",
    "    dbf = np.sum(dft, axis=1, keepdims=True)\n",
    "    dbi = np.sum(dit, axis=1, keepdims=True)\n",
    "    dbc = np.sum(dcct, axis=1 , keepdims=True)\n",
    "    dbo = np.sum(dot, axis=1, keepdims=True)\n",
    "    \n",
    "    da_prevx = np.dot(parameters[\"Wf\"].T, dft) + np.dot(parameters[\"Wo\"].T, dot) + np.dot(parameters[\"Wi\"].T, dit) + np.dot(parameters[\"Wc\"].T, dcct)\n",
    "    da_prev = da_prevx[:n_a, :]\n",
    "    dc_prev = (da_next* ot * (1-np.power(np.tanh(c_next), 2))+dc_next) * ft\n",
    "    dxt= da_prevx[n_a:, :]\n",
    "    \n",
    "    gradients = {\"dxt\": dxt, \"da_prev\": da_prev, \"dc_prev\":dc_prev,\n",
    "                \"dWf\": dWf, \"dWi\": dWi, \"dWc\": dWc, \"dWo\": dWo,\n",
    "                \"dbf\": dbf, \"dbi\": dbi, \"dbo\": dbo, \"dbc\": dbc}\n",
    "    \n",
    "    return gradients"
   ]
  },
  {
   "cell_type": "code",
   "execution_count": 20,
   "metadata": {},
   "outputs": [
    {
     "name": "stdout",
     "output_type": "stream",
     "text": [
      "gradients['dxt'][1][2]= 1.776382835953809\n",
      "gradients['dxt'].shape= (3, 10)\n",
      "gradients['da_prev'][2][3]= -0.19660751310831898\n",
      "gradients['da_prev'].shape= (5, 10)\n",
      "gradients['dc_prev'][2][3]= 0.7975220387970015\n",
      "gradients['dc_prev'].shape= (5, 10)\n",
      "gradients['dWf'][3][1]= -0.1479548381644968\n",
      "gradients['dWf'].shape= (5, 8)\n",
      "gradients['dWi'][1][2]= 1.0574980552259903\n",
      "gradients['dWi'].shape= (5, 8)\n",
      "gradients['dWc'][3][1]= 3.7730841791634275\n",
      "gradients['dWc'].shape= (5, 8)\n",
      "gradients['dWo'][1][2]= 0.3313115952892109\n",
      "gradients['dWo'].shape= (5, 8)\n",
      "gradients['dbf'][4]= [0.18864637]\n",
      "gradients['dbf'].shape= (5, 1)\n",
      "gradients['dbi'][4]= [-0.40142491]\n",
      "gradients['dbi'].shape= (5, 1)\n",
      "gradients['dbc'][4]= [2.00933438]\n",
      "gradients['dbc'].shape= (5, 1)\n",
      "gradients['dbo'][4]= [0.13893342]\n",
      "gradients['dbo'].shape= (5, 1)\n"
     ]
    }
   ],
   "source": [
    "np.random.seed(1)\n",
    "xt = np.random.randn(3, 10)\n",
    "a_prev = np.random.randn(5, 10)\n",
    "c_prev = np.random.randn(5, 10)\n",
    "Wf = np.random.randn(5, 5+3)\n",
    "bf = np.random.randn(5, 1)\n",
    "Wi = np.random.randn(5, 5+3)\n",
    "bi = np.random.randn(5, 1)\n",
    "Wo = np.random.randn(5, 5+3)\n",
    "bo = np.random.randn(5, 1)\n",
    "Wc = np.random.randn(5, 5+3)\n",
    "bc = np.random.randn(5, 1)\n",
    "Wy = np.random.randn(2, 5)\n",
    "by = np.random.randn(2, 1)\n",
    "\n",
    "parameters = {\"Wf\": Wf, \"bf\": bf, \"Wi\": Wi, \"bi\":bi, \"Wo\":Wo, \"bo\":bo, \"Wc\":Wc, \"bc\":bc, \"Wy\":Wy, \"by\":by}\n",
    "\n",
    "a_next, c_next, yt, cache = lstm_cell_forward(xt, a_prev, c_prev, parameters)\n",
    "\n",
    "da_next = np.random.randn(5, 10)\n",
    "dc_next = np.random.randn(5, 10)\n",
    "gradients = lstm_cell_backward(da_next, dc_next, cache)\n",
    "\n",
    "print(\"gradients['dxt'][1][2]=\", gradients['dxt'][1][2])\n",
    "print(\"gradients['dxt'].shape=\", gradients['dxt'].shape)\n",
    "print(\"gradients['da_prev'][2][3]=\", gradients['da_prev'][2][3])\n",
    "print(\"gradients['da_prev'].shape=\", gradients['da_prev'].shape)\n",
    "print(\"gradients['dc_prev'][2][3]=\", gradients['dc_prev'][2][3])\n",
    "print(\"gradients['dc_prev'].shape=\", gradients['dc_prev'].shape)\n",
    "print(\"gradients['dWf'][3][1]=\", gradients['dWf'][3][1])\n",
    "print(\"gradients['dWf'].shape=\", gradients['dWf'].shape)\n",
    "print(\"gradients['dWi'][1][2]=\", gradients['dWi'][1][2])\n",
    "print(\"gradients['dWi'].shape=\", gradients['dWi'].shape)\n",
    "print(\"gradients['dWc'][3][1]=\", gradients['dWc'][3][1])\n",
    "print(\"gradients['dWc'].shape=\", gradients['dWc'].shape)\n",
    "print(\"gradients['dWo'][1][2]=\", gradients['dWo'][1][2])\n",
    "print(\"gradients['dWo'].shape=\", gradients['dWo'].shape)\n",
    "print(\"gradients['dbf'][4]=\", gradients['dbf'][4])\n",
    "print(\"gradients['dbf'].shape=\", gradients['dbf'].shape)\n",
    "print(\"gradients['dbi'][4]=\", gradients['dbi'][4])\n",
    "print(\"gradients['dbi'].shape=\", gradients['dbi'].shape)\n",
    "print(\"gradients['dbc'][4]=\", gradients['dbc'][4])\n",
    "print(\"gradients['dbc'].shape=\", gradients['dbc'].shape)\n",
    "print(\"gradients['dbo'][4]=\", gradients['dbo'][4])\n",
    "print(\"gradients['dbo'].shape=\", gradients['dbo'].shape)"
   ]
  },
  {
   "cell_type": "code",
   "execution_count": 21,
   "metadata": {},
   "outputs": [
    {
     "name": "stdout",
     "output_type": "stream",
     "text": [
      "[[-0.1809203  -0.60392063 -1.23005814  0.5505375   0.79280687 -0.62353073\n",
      "   0.52057634 -1.14434139]\n",
      " [ 0.80186103  0.0465673  -0.18656977 -0.10174587  0.86888616  0.75041164\n",
      "   0.52946532  0.13770121]\n",
      " [ 0.07782113  0.61838026  0.23249456  0.68255141 -0.31011677 -2.43483776\n",
      "   1.0388246   2.18697965]\n",
      " [ 0.44136444 -0.10015523 -0.13644474 -0.11905419  0.01740941 -1.12201873\n",
      "  -0.51709446 -0.99702683]\n",
      " [ 0.24879916 -0.29664115  0.49521132 -0.17470316  0.98633519  0.2135339\n",
      "   2.19069973 -1.89636092]]\n",
      "[[-0.1421699   0.37848152  0.11926438  0.47170657  0.28198475  0.03379451\n",
      "  -0.14190739  0.11263537]\n",
      " [ 0.33483087  0.28531747  0.19488761  0.49997521  0.71242185 -0.43398358\n",
      "  -0.65500412  0.44600686]\n",
      " [-0.06376814 -0.06822228 -0.00809406  0.01610937 -0.05571127  0.14833691\n",
      "   0.10106896  0.04564574]\n",
      " [ 0.0621335  -0.14795484  0.12115521 -0.7750645   0.0157104  -0.20879551\n",
      "  -0.02786287  0.39423542]\n",
      " [ 0.05048145 -0.49088288  0.4095815   0.03122771 -0.33133813  0.88204865\n",
      "   0.55665687  0.12335136]]\n"
     ]
    }
   ],
   "source": [
    "print(Wf)\n",
    "print(gradients['dWf'])"
   ]
  },
  {
   "cell_type": "code",
   "execution_count": null,
   "metadata": {},
   "outputs": [],
   "source": []
  }
 ],
 "metadata": {
  "kernelspec": {
   "display_name": "Python 3",
   "language": "python",
   "name": "python3"
  },
  "language_info": {
   "codemirror_mode": {
    "name": "ipython",
    "version": 3
   },
   "file_extension": ".py",
   "mimetype": "text/x-python",
   "name": "python",
   "nbconvert_exporter": "python",
   "pygments_lexer": "ipython3",
   "version": "3.6.8"
  }
 },
 "nbformat": 4,
 "nbformat_minor": 2
}
